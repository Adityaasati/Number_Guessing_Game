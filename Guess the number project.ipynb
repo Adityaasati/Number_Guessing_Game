{
 "cells": [
  {
   "cell_type": "code",
   "execution_count": 22,
   "metadata": {},
   "outputs": [
    {
     "name": "stdout",
     "output_type": "stream",
     "text": [
      " Number Guessing Game \n",
      "\n",
      "\n",
      "You have 4 chances to try a number for easy level and 7 chances for easy and hard level\n",
      "\n",
      "\n",
      "Which level of game you want to play: Easy/Medium/Hard 4\n",
      "Invalid Input\n"
     ]
    }
   ],
   "source": [
    "import random\n",
    "print(\" Number Guessing Game \\n\\n\")\n",
    "print(\"You have 4 chances to try a number for easy level and 7 chances for easy and hard level\\n\\n\")\n",
    "\n",
    "game_level()"
   ]
  },
  {
   "cell_type": "code",
   "execution_count": 21,
   "metadata": {},
   "outputs": [],
   "source": [
    "def gaming(a,b,chances):\n",
    "    num = random.randint(a,b)\n",
    "    chance = 0\n",
    "    while (chance<chances):\n",
    "        guess = int(input(f\"\\n Enter number between {a} and {b} \\n\"))\n",
    "        chance+=1\n",
    "        if guess == num:\n",
    "            print('\\n Great! you guessed it correctly \\n')\n",
    "            break\n",
    "        elif (guess >= b) or (guess <= a):\n",
    "            print('\\n Wrong input! Entered number is out of limits \\n')\n",
    "    else:\n",
    "        print(f\"\\n You tried {chances} chances Better Luck Next Time \\n\")\n",
    "        "
   ]
  },
  {
   "cell_type": "code",
   "execution_count": 20,
   "metadata": {},
   "outputs": [],
   "source": [
    "def game_level():\n",
    "    level = input('Which level of game you want to play: Easy/Medium/Hard ').lower()\n",
    "    if level == 'easy':\n",
    "        gaming(0,10,4)\n",
    "    elif level== 'medium':\n",
    "        gaming(0,20,7)\n",
    "    elif level == 'hard':\n",
    "        gaming(0,30,7)\n",
    "    else:\n",
    "        print('Invalid Input')"
   ]
  },
  {
   "cell_type": "code",
   "execution_count": null,
   "metadata": {},
   "outputs": [],
   "source": []
  },
  {
   "cell_type": "code",
   "execution_count": null,
   "metadata": {},
   "outputs": [],
   "source": []
  }
 ],
 "metadata": {
  "kernelspec": {
   "display_name": "Python 3",
   "language": "python",
   "name": "python3"
  },
  "language_info": {
   "codemirror_mode": {
    "name": "ipython",
    "version": 3
   },
   "file_extension": ".py",
   "mimetype": "text/x-python",
   "name": "python",
   "nbconvert_exporter": "python",
   "pygments_lexer": "ipython3",
   "version": "3.8.5"
  }
 },
 "nbformat": 4,
 "nbformat_minor": 4
}
